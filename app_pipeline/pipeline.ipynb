{
 "cells": [
  {
   "cell_type": "code",
   "execution_count": null,
   "id": "0267dc50-ad04-464f-892e-058209b5d207",
   "metadata": {},
   "outputs": [],
   "source": [
    "!pip install --upgrade kfp[kubernetes]"
   ]
  },
  {
   "cell_type": "code",
   "execution_count": null,
   "id": "79e86659-6ed4-47ee-96d1-0a2f8ae5fac9",
   "metadata": {},
   "outputs": [],
   "source": [
    "from kfp          import kubernetes\n",
    "from kfp.client   import Client\n",
    "from kfp.compiler import Compiler\n",
    "from kfp.dsl      import component, pipeline"
   ]
  },
  {
   "cell_type": "code",
   "execution_count": null,
   "id": "23bbd49a-1ef6-44d6-8f22-9f2830c80630",
   "metadata": {},
   "outputs": [],
   "source": [
    "TASK_BASE_IMAGE  = 'registry.access.redhat.com/ubi9/python-311'\n",
    "TASK_IMAGE_BOTO3 = '<task_image_boto3>'"
   ]
  },
  {
   "cell_type": "code",
   "execution_count": null,
   "id": "8e5637aa-6d83-490c-a9d8-5bc5639da1f3",
   "metadata": {},
   "outputs": [],
   "source": [
    "@component(\n",
    "    base_image = TASK_IMAGE_BOTO3\n",
    ")\n",
    "def download_json(\n",
    "    s3_endpoint_url      : str,\n",
    "    s3_access_key_id     : str,\n",
    "    s3_secret_access_key : str,\n",
    "    s3_region_name       : str,\n",
    "    s3_bucket            : str,\n",
    "    s3_filename          : str,\n",
    "    pvc_filename         : str\n",
    "):\n",
    "\n",
    "    from boto3   import client\n",
    "    from os      import makedirs\n",
    "    from os.path import dirname\n",
    "\n",
    "    makedirs(dirname(pvc_filename))\n",
    "\n",
    "    s3_client = client(\n",
    "        service_name          = 's3',\n",
    "        endpoint_url          = s3_endpoint_url,\n",
    "        aws_access_key_id     = s3_access_key_id,\n",
    "        aws_secret_access_key = s3_secret_access_key,\n",
    "        region_name           = s3_region_name\n",
    "    )\n",
    "\n",
    "    s3_client.download_file(s3_bucket, s3_filename, pvc_filename)"
   ]
  },
  {
   "cell_type": "code",
   "execution_count": null,
   "id": "ce511de8-79af-4e17-877e-9e30ffc6daf4",
   "metadata": {},
   "outputs": [],
   "source": [
    "PIPELINE_NAME              = 'Gerar Parecer'\n",
    "PIPELINE_DESCRIPTION       = 'Utilizando IA para gerar parecer jurídico de infrações ambientais'\n",
    "PIPELINE_YAML              = 'pipeline.yaml'\n",
    "PIPELINE_PVC_STORAGE_CLASS = 'gp3-csi'"
   ]
  },
  {
   "cell_type": "code",
   "execution_count": null,
   "id": "1ce6d562-944a-4c6e-9a38-a9eebaf7e292",
   "metadata": {},
   "outputs": [],
   "source": [
    "@pipeline(\n",
    "    name        = PIPELINE_NAME,\n",
    "    description = PIPELINE_DESCRIPTION\n",
    ")\n",
    "def pipeline(\n",
    "    s3_endpoint_url      : str,\n",
    "    s3_access_key_id     : str,\n",
    "    s3_secret_access_key : str,\n",
    "    s3_region_name       : str,\n",
    "    s3_bucket            : str,\n",
    "    s3_filename          : str,\n",
    "    pvc_filename         : str\n",
    "):\n",
    "\n",
    "    from os.path import join\n",
    "\n",
    "    # Task Create PVC\n",
    "\n",
    "    create_pvc_task = kubernetes.CreatePVC(\n",
    "        pvc_name_suffix    = '-pipeline-pvc',\n",
    "        size               = '5Gi',\n",
    "        access_modes       = ['ReadWriteOnce'],\n",
    "        storage_class_name = PIPELINE_PVC_STORAGE_CLASS\n",
    "    )\n",
    "\n",
    "    pvc_directory = join('/', 'pipeline')\n",
    "    pvc_name      = create_pvc_task.outputs['name']\n",
    "\n",
    "    # Task Download JSON\n",
    "\n",
    "    download_json_task = download_json(\n",
    "        s3_endpoint_url      = s3_endpoint_url,\n",
    "        s3_access_key_id     = s3_access_key_id,\n",
    "        s3_secret_access_key = s3_secret_access_key,\n",
    "        s3_region_name       = s3_region_name,\n",
    "        s3_bucket            = s3_bucket,\n",
    "        s3_filename          = s3_filename,\n",
    "        pvc_filename         = pvc_filename\n",
    "    )\n",
    "\n",
    "    kubernetes.mount_pvc(\n",
    "        task       = download_json_task,\n",
    "        pvc_name   = pvc_name,\n",
    "        mount_path = pvc_directory\n",
    "    )\n",
    "\n",
    "    download_json_task.after(create_pvc_task)"
   ]
  },
  {
   "cell_type": "code",
   "execution_count": null,
   "id": "8787ea16-051a-444f-935d-12ca8b5edddf",
   "metadata": {},
   "outputs": [],
   "source": [
    "Compiler().compile(pipeline, PIPELINE_YAML)"
   ]
  },
  {
   "cell_type": "code",
   "execution_count": null,
   "id": "fa5afc07-66a0-46ec-8bf1-f2e923b4840a",
   "metadata": {},
   "outputs": [],
   "source": [
    "KUBEFLOW_HOST = '<kubeflow_host>'\n",
    "\n",
    "PIPELINE_ARGUMENTS = {\n",
    "    's3_endpoint_url'      : '<s3_endpoint_url>',\n",
    "    's3_access_key_id'     : '<s3_access_key_id>',\n",
    "    's3_secret_access_key' : '<s3_secret_access_key>',\n",
    "    's3_region_name'       : '<s3_region_name>',\n",
    "    's3_bucket'            : '<s3_bucket>',\n",
    "    's3_filename'          : '<s3_filename>',\n",
    "    'pvc_filename'         : '<pvc_filename>',\n",
    "}"
   ]
  },
  {
   "cell_type": "code",
   "execution_count": null,
   "id": "833a54e4-5d88-4f5a-b143-30b3816c1537",
   "metadata": {},
   "outputs": [],
   "source": [
    "Client(host = KUBEFLOW_HOST).create_run_from_pipeline_package(\n",
    "    pipeline_file = PIPELINE_YAML,\n",
    "    arguments     = PIPELINE_ARGUMENTS\n",
    ")"
   ]
  }
 ],
 "metadata": {
  "kernelspec": {
   "display_name": "Python 3.11",
   "language": "python",
   "name": "python3"
  },
  "language_info": {
   "codemirror_mode": {
    "name": "ipython",
    "version": 3
   },
   "file_extension": ".py",
   "mimetype": "text/x-python",
   "name": "python",
   "nbconvert_exporter": "python",
   "pygments_lexer": "ipython3",
   "version": "3.11.7"
  }
 },
 "nbformat": 4,
 "nbformat_minor": 5
}
